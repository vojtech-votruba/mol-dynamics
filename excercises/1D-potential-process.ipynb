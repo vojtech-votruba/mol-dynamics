{
 "cells": [
  {
   "cell_type": "code",
   "execution_count": null,
   "metadata": {},
   "outputs": [],
   "source": [
    "from functools import partial\n",
    "\n",
    "import numpy as np\n",
    "import matplotlib.pyplot as plt\n",
    "from matplotlib import patches as mpatches\n",
    "from mpl_toolkits.axes_grid1 import make_axes_locatable"
   ]
  },
  {
   "cell_type": "code",
   "execution_count": null,
   "metadata": {},
   "outputs": [],
   "source": [
    "plt.style.use('ggplot')\n",
    "plt.style.use({'figure.dpi': 150})"
   ]
  },
  {
   "cell_type": "code",
   "execution_count": null,
   "metadata": {},
   "outputs": [],
   "source": [
    "def read_xyz_frame(f_in):\n",
    "    \"\"\"Read one frame from an open XYZ file.\n",
    "\n",
    "    Returns `None` if there are no more frames.\n",
    "    \"\"\"\n",
    "\n",
    "    line = f_in.readline()\n",
    "    if line == '':\n",
    "        return None\n",
    "    N = int(line)\n",
    "    comment = f_in.readline()[:-1]\n",
    "    names = []\n",
    "    data = []\n",
    "    for i in range(N):\n",
    "        items = f_in.readline().split()\n",
    "        names.append(items[0])\n",
    "        data.append([float(item) for item in items[1:]])\n",
    "\n",
    "    return comment, names, np.array(data)"
   ]
  },
  {
   "cell_type": "code",
   "execution_count": null,
   "metadata": {},
   "outputs": [],
   "source": [
    "def read_xyz(fn_in: str):\n",
    "    \"\"\"Iterate all frames from an XYZ file.\"\"\"\n",
    "\n",
    "    with open(fn_in) as f_in:\n",
    "        while True:\n",
    "            frame = read_xyz_frame(f_in)\n",
    "            if not frame:\n",
    "                break\n",
    "            yield frame"
   ]
  },
  {
   "cell_type": "code",
   "execution_count": null,
   "metadata": {},
   "outputs": [],
   "source": [
    "def read_xyz_data(fn_in: str):\n",
    "    \"\"\"Read an XYZ file, return array with all data.\"\"\"\n",
    "    frames = read_xyz(fn_in)\n",
    "    data = np.array([frame[2] for frame in frames])\n",
    "    return data"
   ]
  },
  {
   "cell_type": "markdown",
   "metadata": {},
   "source": [
    "## Load data"
   ]
  },
  {
   "cell_type": "code",
   "execution_count": null,
   "metadata": {},
   "outputs": [],
   "source": [
    "fn_energy = 'energy.txt'\n",
    "fn_positions = 'positions.xyz'\n",
    "fn_velocities = 'velocities.xyz'"
   ]
  },
  {
   "cell_type": "code",
   "execution_count": null,
   "metadata": {},
   "outputs": [],
   "source": [
    "data_energy = np.loadtxt(fn_energy)\n",
    "t = data_energy[:,1]"
   ]
  },
  {
   "cell_type": "code",
   "execution_count": null,
   "metadata": {},
   "outputs": [],
   "source": [
    "q = read_xyz_data(fn_positions)\n",
    "v = read_xyz_data(fn_velocities)"
   ]
  },
  {
   "cell_type": "code",
   "execution_count": null,
   "metadata": {},
   "outputs": [],
   "source": [
    "# check the shape of the data\n",
    "print(q.shape)"
   ]
  },
  {
   "cell_type": "markdown",
   "metadata": {},
   "source": [
    "## Process and plot"
   ]
  },
  {
   "cell_type": "markdown",
   "metadata": {},
   "source": [
    "### Scalar quantities"
   ]
  },
  {
   "cell_type": "code",
   "execution_count": null,
   "metadata": {},
   "outputs": [],
   "source": [
    "plt.figure(constrained_layout=True)\n",
    "plt.plot(t, data_energy[:,2], label='Kinetic', lw=1)\n",
    "plt.plot(t, data_energy[:,3], label='Potential', lw=1)\n",
    "plt.plot(t, data_energy[:,4], label='Total', lw=1)\n",
    "plt.xlabel('Time')\n",
    "plt.ylabel('Energy')\n",
    "plt.legend();"
   ]
  },
  {
   "cell_type": "code",
   "execution_count": null,
   "metadata": {},
   "outputs": [],
   "source": [
    "plt.figure(constrained_layout=True)\n",
    "plt.plot(t, data_energy[:,5], label='Temperature', lw=0.5)\n",
    "plt.xlabel('Time')\n",
    "plt.ylabel('Temperature');"
   ]
  },
  {
   "cell_type": "markdown",
   "metadata": {},
   "source": [
    "### Trajectory example"
   ]
  },
  {
   "cell_type": "code",
   "execution_count": null,
   "metadata": {},
   "outputs": [],
   "source": [
    "# trimmed data for trajectory example plotting\n",
    "# one particular DOF for a chunk of time\n",
    "idx_start = 0\n",
    "idx_end = 1000\n",
    "t_plot = t[idx_start:idx_end]\n",
    "q_plot = q[idx_start:idx_end, 0, 0]\n",
    "v_plot = v[idx_start:idx_end, 0, 0]"
   ]
  },
  {
   "cell_type": "code",
   "execution_count": null,
   "metadata": {},
   "outputs": [],
   "source": [
    "plt.subplots(2, 1, sharex=True, constrained_layout=True)\n",
    "\n",
    "plt.subplot(2, 1, 1)\n",
    "plt.plot(t_plot, q_plot, '.-', lw=1.0, ms=4.0)\n",
    "plt.ylabel('Position')\n",
    "\n",
    "plt.subplot(2, 1, 2)\n",
    "plt.plot(t_plot, v_plot, '.-', lw=1.0, ms=4.0)\n",
    "plt.ylabel('Velocity')\n",
    "\n",
    "plt.xlabel('Time');"
   ]
  },
  {
   "cell_type": "code",
   "execution_count": null,
   "metadata": {},
   "outputs": [],
   "source": [
    "plt.figure(constrained_layout=True)\n",
    "plt.plot(q_plot, v_plot, '.-', lw=1.0, ms=4.0)\n",
    "plt.xlabel('Position')\n",
    "plt.ylabel('Velocity');"
   ]
  },
  {
   "cell_type": "markdown",
   "metadata": {},
   "source": [
    "### Probability distributions"
   ]
  },
  {
   "cell_type": "code",
   "execution_count": null,
   "metadata": {},
   "outputs": [],
   "source": [
    "def interactions_double_well(q, D0=1.0, a=1.0, l=1.0):\n",
    "    \"\"\"Evaluate potential energy and its derivatives at configuration `x` for a double well potential.\"\"\"\n",
    "    U = (D0 / a**4) * ((q**2 - a**2)**2 + l*q).sum()\n",
    "    dU_dq = 4 * (D0 / a**4) * (q**2 - a**2) * q + l\n",
    "    return U, dU_dq"
   ]
  },
  {
   "cell_type": "code",
   "execution_count": null,
   "metadata": {},
   "outputs": [],
   "source": [
    "# Here we set the parameters and potential by hand.\n",
    "# Later, we can save this information from the simulation itself.\n",
    "\n",
    "k_B = 1.0\n",
    "T = 1.6\n",
    "beta = 1.0 / (k_B * T)\n",
    "\n",
    "m = 1.5\n",
    "\n",
    "interactions = partial(interactions_double_well, l=0.0)"
   ]
  },
  {
   "cell_type": "code",
   "execution_count": null,
   "metadata": {},
   "outputs": [],
   "source": [
    "# histogram the loaded data\n",
    "\n",
    "# trim off estimated equilibration\n",
    "idx_trim = 1000\n",
    "q_trim = q[idx_trim:, :, :]\n",
    "v_trim = v[idx_trim:, :, :]\n",
    "\n",
    "# set histogram ranges\n",
    "range_q = [-2.5, 2.5]\n",
    "range_v = [-4, 4]\n",
    "\n",
    "# phase-space histogram\n",
    "f, qedges, vedges = np.histogram2d(q_trim.flatten(), v_trim.flatten(), 200, range=[range_q, range_v], density=True)\n",
    "\n",
    "# velocity histogram\n",
    "f_v, bin_edges_v = np.histogram(v_trim, 200, range=range_v, density=True)\n",
    "bin_centers_v = 0.5 * (bin_edges_v[1:] + bin_edges_v[:-1])\n",
    "\n",
    "# position histogram\n",
    "f_q, bin_edges_q = np.histogram(q_trim, 200, range=range_q, density=True)\n",
    "bin_centers_q = 0.5 * (bin_edges_q[1:] + bin_edges_q[:-1])"
   ]
  },
  {
   "cell_type": "code",
   "execution_count": null,
   "metadata": {},
   "outputs": [],
   "source": [
    "# reference velocity distribution, normalized analytically\n",
    "f_v_ref = np.sqrt(0.5 * beta * m / np.pi) * np.exp(-0.5 * beta * m * bin_centers_v**2)\n",
    "\n",
    "# reference position distribution, normalized numerically\n",
    "U = np.array([interactions(q)[0] for q in bin_centers_q])\n",
    "f_q_ref = np.exp(-beta * U)\n",
    "f_q_ref /= np.trapz(f_q_ref, bin_centers_q)\n",
    "\n",
    "# reference 2D q-v distribution, comes out normalized like this\n",
    "f_ref = f_v_ref * f_q_ref[:, np.newaxis]"
   ]
  },
  {
   "cell_type": "code",
   "execution_count": null,
   "metadata": {},
   "outputs": [],
   "source": [
    "# contours settings\n",
    "# exclude contour at 0.0\n",
    "n_levels = 15\n",
    "levels = np.linspace(0, f.max(), n_levels)[1:]\n",
    "\n",
    "# layout settings\n",
    "ratio_axes = 1.5\n",
    "pad = 0.1\n",
    "\n",
    "figure, axes = plt.subplots()\n",
    "\n",
    "# main panel - histogram as filled contours, reference as line contours\n",
    "# a bit of additional work to make the legend work\n",
    "contours = plt.contourf(\n",
    "    f.T,\n",
    "    origin='lower',\n",
    "    extent=(*range_q, *range_v),\n",
    "    cmap='viridis',\n",
    "    levels=levels\n",
    ")\n",
    "contours_ref = plt.contour(\n",
    "    f_ref.T,\n",
    "    origin='lower',\n",
    "    extent=(*range_q, *range_v),\n",
    "    colors=['black'],\n",
    "    levels=levels,\n",
    "    alpha=0.5,\n",
    "    linewidths=[1.0],\n",
    ")\n",
    "plt.xlabel('Position')\n",
    "plt.ylabel('Velocity')\n",
    "\n",
    "# custom legend for main panel\n",
    "# label one of the contours\n",
    "contours_ref.collections[0].set_label('Reference')\n",
    "handle_contour = contours_ref.legend_elements()[0][0]\n",
    "# custom colored patch with a label\n",
    "color_patch = contours.collections[1].get_facecolor()\n",
    "handle_patch = mpatches.Patch(color=color_patch, label='Simulation')\n",
    "# create the legend itself\n",
    "plt.legend(handles=[handle_patch, handle_contour])\n",
    "\n",
    "# custom legend for main panel\n",
    "# this worked for Matplotlib <3.5\n",
    "# contours_ref.collections[0].set_label('Reference')\n",
    "# color_patch = contours.collections[1].get_facecolor()\n",
    "# proxy = plt.Rectangle((0, 0), 1, 1, fc=color_patch, label='Simulation')\n",
    "# axes.patches += [proxy]\n",
    "# plt.legend()\n",
    "\n",
    "# use a divider to get new axes\n",
    "divider = make_axes_locatable(axes)\n",
    "axes_top = divider.append_axes('top', ratio_axes, pad=pad, sharex=axes)\n",
    "axes_right = divider.append_axes('right', ratio_axes, pad=pad, sharey=axes)\n",
    "\n",
    "# top marginal\n",
    "plt.sca(axes_top)\n",
    "plt.plot(bin_centers_q, f_q, label='Simulation')\n",
    "plt.plot(bin_centers_q, f_q_ref, ':', lw=3, label='Reference')\n",
    "plt.tick_params(labelbottom=False)\n",
    "plt.legend()\n",
    "\n",
    "# right marginal\n",
    "plt.sca(axes_right)\n",
    "plt.plot(f_v, bin_centers_v, label='Simulation')\n",
    "plt.plot(f_v_ref, bin_centers_v, ':', lw=3, label='Reference')\n",
    "plt.tick_params(labelleft=False)\n",
    "\n",
    "# tighten layout\n",
    "plt.subplots_adjust(left=0.1, bottom=0.1, top=0.925, right=0.95)\n",
    "\n",
    "plt.suptitle('Phase-space probability distribution compared to reference');"
   ]
  },
  {
   "cell_type": "code",
   "execution_count": null,
   "metadata": {},
   "outputs": [],
   "source": [
    "# absolute difference distribution\n",
    "f_diff = (f - f_ref)\n",
    "v_amp = np.max([f_diff.max(), np.abs(f_diff.min())])\n",
    "n_levels_diff = 26\n",
    "levels_diff = np.linspace(-v_amp, v_amp, n_levels_diff)\n",
    "\n",
    "# relative difference distribution, avoid division by zero\n",
    "mask = f > 0\n",
    "f_diff_rel = np.empty_like(f)\n",
    "f_diff_rel[:] = np.nan\n",
    "f_diff_rel[mask] = (f[mask] - f_ref[mask]) / (f[mask] + f_ref[mask])\n",
    "v_amp_rel = 1.0\n",
    "levels_diff_rel = np.linspace(-v_amp_rel, v_amp_rel, n_levels_diff)\n",
    "\n",
    "# change aspect ratio, respect default width\n",
    "figsize_orig = plt.rcParams['figure.figsize']\n",
    "figsize = (figsize_orig[0], 1.5 * figsize_orig[1])\n",
    "\n",
    "plt.subplots(2, 1, figsize=figsize, sharex=True, layout='tight')\n",
    "\n",
    "plt.subplot(2, 1, 1)\n",
    "plt.contourf(f_diff.T, origin='lower', extent=(*range_q, *range_v), cmap='seismic', levels=levels_diff, alpha=0.5)\n",
    "plt.colorbar()\n",
    "plt.ylabel('Velocity')\n",
    "plt.title('Phase-space probability distribution deviation')\n",
    "\n",
    "plt.subplot(2, 1, 2)\n",
    "plt.contourf(f_diff_rel.T, origin='lower', extent=(*range_q, *range_v), cmap='seismic', levels=levels_diff_rel, alpha=0.5)\n",
    "plt.colorbar()\n",
    "plt.xlabel('Position')\n",
    "plt.ylabel('Velocity')\n",
    "plt.title('Phase-space probability distribution relative deviation');"
   ]
  },
  {
   "cell_type": "code",
   "execution_count": null,
   "metadata": {},
   "outputs": [],
   "source": []
  }
 ],
 "metadata": {
  "kernelspec": {
   "display_name": "Python 3",
   "language": "python",
   "name": "python3"
  },
  "language_info": {
   "codemirror_mode": {
    "name": "ipython",
    "version": 3
   },
   "file_extension": ".py",
   "mimetype": "text/x-python",
   "name": "python",
   "nbconvert_exporter": "python",
   "pygments_lexer": "ipython3",
   "version": "3.8.15"
  }
 },
 "nbformat": 4,
 "nbformat_minor": 4
}
