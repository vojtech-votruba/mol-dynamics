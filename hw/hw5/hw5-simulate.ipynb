{
 "cells": [
  {
   "cell_type": "code",
   "execution_count": 90,
   "metadata": {},
   "outputs": [],
   "source": [
    "from functools import partial\n",
    "\n",
    "import numpy as np\n",
    "from tqdm.notebook import tqdm"
   ]
  },
  {
   "cell_type": "code",
   "execution_count": 91,
   "metadata": {},
   "outputs": [],
   "source": [
    "def interactions_harmonic(q, k=1.0):\n",
    "    \"\"\"Evaluate potential energy and its derivatives at configuration `x` for a harmonic potential.\"\"\"\n",
    "    U = k * 0.5 * (q**2).sum()\n",
    "    dU_dq = k * q\n",
    "    return U, dU_dq"
   ]
  },
  {
   "cell_type": "code",
   "execution_count": 92,
   "metadata": {},
   "outputs": [],
   "source": [
    "def interactions_double_well(q, D0=1.0, a=1.0, l=1.0):\n",
    "    \"\"\"Evaluate potential energy and its derivatives at configuration `x` for a double well potential.\"\"\"\n",
    "    U = ((D0 / a**4) * ((q**2 - a**2)**2) + l*q).sum()\n",
    "    dU_dq = 4 * (D0 / a**4) * (q**2 - a**2) * q + l\n",
    "    return U, dU_dq"
   ]
  },
  {
   "cell_type": "code",
   "execution_count": 93,
   "metadata": {},
   "outputs": [],
   "source": [
    "def do_output():\n",
    "\n",
    "    # Note that this relies on global variables. That is not ideal, but will do for this purpose.\n",
    "\n",
    "    # calculate kinetic energy and temperature\n",
    "    E_kin = 0.5 * (p**2 / m_DOF).sum()\n",
    "    T_kin = 2 * E_kin / (k_B * 3 * N)\n",
    "\n",
    "    # prepate format string for one energy file line\n",
    "    fmt_energy = '{:6d} {:10.3f} {:12.6f} {:12.6f} {:12.6f} {:12.6f}\\n'\n",
    "\n",
    "    fs_out['energy'].write(fmt_energy.format(i, t, E_kin, E_pot, E_kin+E_pot, T_kin))\n",
    "\n",
    "    # comment line for XYZ files\n",
    "    comment = 'step {:d}'.format(i)\n",
    "\n",
    "    # write XYZ files - positions and velocities\n",
    "    write_xyz_frame(fs_out['position'], q, names, comment=comment)\n",
    "    write_xyz_frame(fs_out['velocity'], p/m_DOF, names, comment=comment)"
   ]
  },
  {
   "cell_type": "code",
   "execution_count": 94,
   "metadata": {},
   "outputs": [],
   "source": [
    "def write_xyz_frame(f_out, q, names, comment=''):\n",
    "    \"\"\"Write one XYZ frame to an open file.\"\"\"\n",
    "\n",
    "    N = q.shape[0]\n",
    "\n",
    "    # number of atoms\n",
    "    f_out.write('{:d}\\n'.format(N))\n",
    "\n",
    "    # comment line\n",
    "    f_out.write(comment + '\\n')\n",
    "\n",
    "    # one line per atom\n",
    "    for i in range(N):\n",
    "        data = names[i], q[i, 0], q[i, 1], q[i, 2]\n",
    "        f_out.write('{:3s} {:12.6f} {:12.6f} {:12.6f}\\n'.format(*data))"
   ]
  },
  {
   "cell_type": "markdown",
   "metadata": {},
   "source": [
    "## Simulate\n",
    "\n",
    "An arbitrary 1D potential, simulated simultaneously for 3xN independent degrees of freedom."
   ]
  },
  {
   "cell_type": "code",
   "execution_count": 95,
   "metadata": {},
   "outputs": [],
   "source": [
    "#\n",
    "# settings\n",
    "#\n",
    "\n",
    "# propagation\n",
    "n_steps = 50000            # number of MD steps\n",
    "dt = 0.2                    # time step\n",
    "\n",
    "# atomic properties\n",
    "N = 5                      # number of atoms\n",
    "names = ('X',) * N          # names of all atoms\n",
    "masses = {                  # masses of all atom types\n",
    "    'X': 1.5\n",
    "}\n",
    "\n",
    "# thermostat\n",
    "k_B = 1.0                   # Boltzmann constant\n",
    "T_init = 1.6                # temperature of initial distribution\n",
    "T = 1.0                   # temperature of the thermostat\n",
    "tau = 250                   # thermostat time constant\n",
    "p_resample = dt / tau\n",
    "\n",
    "# output\n",
    "stride_out = 10             # period of file output\n",
    "fn_energy = 'energy.txt'\n",
    "fn_positions = 'positions.xyz'\n",
    "fn_velocities = 'velocities.xyz'\n",
    "\n",
    "# pick an interaction potential\n",
    "interactions = partial(interactions_double_well, l=0)"
   ]
  },
  {
   "cell_type": "code",
   "execution_count": 96,
   "metadata": {},
   "outputs": [],
   "source": [
    "#\n",
    "# initialize everything\n",
    "#\n",
    "\n",
    "# simulation time starts at 0\n",
    "t = 0.0\n",
    "\n",
    "# prepare masses, their broadcasting version, and scale of thermal momenta\n",
    "m = np.array([masses[name] for name in names], dtype=float)\n",
    "m_DOF = m[:, np.newaxis]\n",
    "scale_p = np.sqrt(k_B * T * np.repeat(m_DOF, 3, axis=1))\n",
    "scale_p_init = np.sqrt(k_B * T_init * np.repeat(m_DOF, 3, axis=1))\n",
    "\n",
    "# initial conditions - positions\n",
    "q = np.zeros((N, 3))\n",
    "\n",
    "# initial conditions - constant or thermal momenta\n",
    "#p = np.ones_like(q)\n",
    "p = np.random.normal(0, scale_p_init)\n",
    "\n",
    "# prepare thermostat\n",
    "gamma = 2 / tau\n",
    "A = np.exp(-gamma * dt)\n",
    "B = np.sqrt((1-A**2) * k_B * T * m_DOF)\n",
    "\n",
    "# update interactions for initial positions\n",
    "E_pot, dU_dq = interactions(q)\n",
    "F = - dU_dq\n",
    "\n",
    "# open output files\n",
    "fs_out = {\n",
    "    'position': open(fn_positions, 'w'),\n",
    "    'velocity': open(fn_velocities, 'w'),\n",
    "    'energy': open(fn_energy, 'w'),\n",
    "}"
   ]
  },
  {
   "cell_type": "code",
   "execution_count": 97,
   "metadata": {},
   "outputs": [
    {
     "name": "stdout",
     "output_type": "stream",
     "text": [
      "SimpleMD\n",
      "========\n",
      "\n"
     ]
    },
    {
     "data": {
      "application/vnd.jupyter.widget-view+json": {
       "model_id": "7f91f246bbd54760af51c5dc234b1550",
       "version_major": 2,
       "version_minor": 0
      },
      "text/plain": [
       "  0%|          | 0/50000 [00:00<?, ?it/s]"
      ]
     },
     "metadata": {},
     "output_type": "display_data"
    },
    {
     "name": "stdout",
     "output_type": "stream",
     "text": [
      "SimpleMD finished.\n"
     ]
    }
   ],
   "source": [
    "#\n",
    "# run the simulation\n",
    "#\n",
    "\n",
    "print('SimpleMD')\n",
    "print('========')\n",
    "print()\n",
    "\n",
    "# main loop\n",
    "for i in tqdm(range(n_steps)):\n",
    "\n",
    "    # write output\n",
    "    if i % stride_out == 0:\n",
    "        do_output()\n",
    "\n",
    "    # propagator: start\n",
    "\n",
    "    # propagate momenta for half a step\n",
    "    p += F * dt / 2\n",
    "\n",
    "    # propagate positions for a half a step\n",
    "    q += dt * p / (m_DOF * 2)\n",
    "\n",
    "    # apply Langevin thermostat to momenta, full step\n",
    "    \"\"\"p *= A\n",
    "    p += B * np.random.normal(0, 1, size=p.shape)\"\"\"\n",
    "\n",
    "    # propagate positions for a half a step\n",
    "    q += dt * p / (m_DOF * 2)\n",
    "\n",
    "    # full position update done, update potential energy and accelerations\n",
    "    E_pot, dU_dq = interactions(q)\n",
    "    F[:, :] = - dU_dq\n",
    "\n",
    "    # propagate momenta for half a step\n",
    "    p += F * dt / 2\n",
    "\n",
    "    # Andersen thermostat - resample some of the velocities\n",
    "    idx = np.where(np.random.random(N) < p_resample) \n",
    "    p[idx] = np.random.normal(0, scale_p[idx])\n",
    "\n",
    "    # propagator: end\n",
    "\n",
    "    # update time\n",
    "    t += dt\n",
    "\n",
    "# final step\n",
    "i += 1\n",
    "\n",
    "# write output for last frame\n",
    "do_output()\n",
    "\n",
    "# close output files\n",
    "for f_out in fs_out.values():\n",
    "    f_out.close()\n",
    "\n",
    "print('SimpleMD finished.')"
   ]
  }
 ],
 "metadata": {
  "kernelspec": {
   "display_name": "base",
   "language": "python",
   "name": "python3"
  },
  "language_info": {
   "codemirror_mode": {
    "name": "ipython",
    "version": 3
   },
   "file_extension": ".py",
   "mimetype": "text/x-python",
   "name": "python",
   "nbconvert_exporter": "python",
   "pygments_lexer": "ipython3",
   "version": "3.12.3"
  }
 },
 "nbformat": 4,
 "nbformat_minor": 4
}
