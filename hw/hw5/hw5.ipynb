{
 "cells": [
  {
   "cell_type": "markdown",
   "metadata": {},
   "source": [
    "# Homework 5"
   ]
  },
  {
   "cell_type": "markdown",
   "metadata": {},
   "source": [
    "#### Different Potentials\n",
    "For warmup I though it would be nice to see a comparison between two different potentials. In the reference notebook we have both the harmonic and the double well potentials prepared, and so we can try them out both. Using Langevin thermostat with the initial settings, and using ```l=1.0``` in the case of the double well potential, we can obtain these graphs "
   ]
  },
  {
   "cell_type": "markdown",
   "metadata": {},
   "source": [
    "<p float=\"left\">\n",
    "  <img src=\"harmonic.png\" width=\"700\"/>\n",
    "  <img src=\"dwell.png\" width=\"700\"/>\n",
    "</p>"
   ]
  },
  {
   "cell_type": "markdown",
   "metadata": {},
   "source": [
    "As we can see, the probability distribution matches the reference very well, so everything is fine and working."
   ]
  },
  {
   "cell_type": "markdown",
   "metadata": {},
   "source": [
    "### Lower vs. Higher Temperature\n",
    "From now on, we will be using solely the double well potential, as it is more interesting than harmonic. What we could try out next is to look at the difference between using a higher and a lower thermostat temperature. Specifically, using higher temperature should lead to bigger fluctuations in the energy. We will try out Langevin thermostat with the initial temperature ```T_init = 1.6```, and we will set the thermostat temperature to be either ```T = 0.2``` (left), or ```T = 3``` (right)."
   ]
  },
  {
   "cell_type": "markdown",
   "metadata": {},
   "source": [
    "<p float=\"left\">\n",
    "  <img src=\"low_temp.png\" width=\"700\"/>\n",
    "  <img src=\"high_temp.png\" width=\"700\"/>\n",
    "</p>"
   ]
  },
  {
   "cell_type": "markdown",
   "metadata": {},
   "source": [
    "The results match our prediction, the fluctuations are much bigger with higher temperature."
   ]
  },
  {
   "cell_type": "markdown",
   "metadata": {},
   "source": [
    "### Different Thermostats\n",
    "What could we do next, hmmm. Well, obviously we could try comparing Langevin (left) and Andersen (right) thermostats, similarly to comparing the harmonic and double well potentials."
   ]
  },
  {
   "cell_type": "markdown",
   "metadata": {},
   "source": [
    "<p float=\"left\">\n",
    "  <img src=\"langevin.png\" width=\"700\"/>\n",
    "  <img src=\"andersen.png\" width=\"700\"/>\n",
    "</p>"
   ]
  },
  {
   "cell_type": "markdown",
   "metadata": {},
   "source": [
    "While both thermostat's sample the probability distribution correctly, it is interesting to see the difference in fluctuations. It looks as if Andersen is more structured (core time correlated) compared to Langevin."
   ]
  },
  {
   "cell_type": "markdown",
   "metadata": {},
   "source": [
    "### Number of Steps\n",
    "This should be pretty straightforward. With fewer steps we expect the thermostat not to equilibriate as well as with more steps. We will compare distribution functions for this. Using Andersen with default settings. On the left we have ```n=50000```, while on the right ```n=350000```."
   ]
  },
  {
   "cell_type": "markdown",
   "metadata": {},
   "source": [
    "<p float=\"left\">\n",
    "  <img src=\"50k.png\" width=\"700\"/>\n",
    "  <img src=\"350k.png\" width=\"700\"/>\n",
    "</p>"
   ]
  },
  {
   "cell_type": "markdown",
   "metadata": {},
   "source": [
    "As we can see, the match with reference for ```n=350000``` is better. However, what I find interesting is that no matter how many steps I use, the peak in the middle of the velocity Gaussian is a bit off. "
   ]
  },
  {
   "cell_type": "markdown",
   "metadata": {},
   "source": [
    "### Number of Atoms\n",
    "Lastly, it might be worth it to look at different number of atoms for the same simulation. On the left, we will use ```N = 5``` which is half the default, and then on the right we will change it to ```N=1000```. We will use Andersen thermostat with default settings, utilizing ```n = 50000``` as in the previous simulation, as I found it more interesting than with ```n = 350000```."
   ]
  },
  {
   "cell_type": "markdown",
   "metadata": {},
   "source": [
    "<p float=\"left\">\n",
    "  <img src=\"n-5.png\" width=\"700\"/>\n",
    "  <img src=\"n-1000.png\" width=\"700\"/>\n",
    "</p>"
   ]
  },
  {
   "cell_type": "markdown",
   "metadata": {},
   "source": [
    "We can see that if we use a larger number of atoms, the equilibration of temperature becomes much smoother and faster. One explanation that I can come up with is that using a larger number of atoms amounts to more interactions and fluctuations which should amount to more stable equilibration? I am not really sure. "
   ]
  }
 ],
 "metadata": {
  "kernelspec": {
   "display_name": "base",
   "language": "python",
   "name": "python3"
  },
  "language_info": {
   "codemirror_mode": {
    "name": "ipython",
    "version": 3
   },
   "file_extension": ".py",
   "mimetype": "text/x-python",
   "name": "python",
   "nbconvert_exporter": "python",
   "pygments_lexer": "ipython3",
   "version": "3.12.3"
  }
 },
 "nbformat": 4,
 "nbformat_minor": 2
}
