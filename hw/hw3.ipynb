{
 "cells": [
  {
   "cell_type": "markdown",
   "metadata": {},
   "source": [
    "## Verlet like Integrators\n",
    "\n",
    "We are supposed to show the equivalence of three types of numerical integrators."
   ]
  },
  {
   "cell_type": "markdown",
   "metadata": {
    "vscode": {
     "languageId": "plaintext"
    }
   },
   "source": [
    "##### 1. Plain Verlet\n",
    "Derived using Taylor expansion and neglecting $O(\\Delta t^3)$ terms, the plain verlet integrator calculates the position with a formula\n",
    "$$\n",
    "    r(t + \\Delta t) = 2r(t) - r(t - \\Delta t) + \\frac{\\Delta t^2}{m} F(t),\n",
    "$$\n",
    "and optionally the velocity as\n",
    "$$\n",
    "    v(t) = \\frac{r(t+\\Delta t) - r(t-\\Delta t)}{2\\Delta t}.\n",
    "$$\n",
    "##### 2. Velocity Verlet\n",
    "In a similar fashion we can derive the velocity Verlet time integrator which has the equations\n",
    "$$\n",
    "r(t+\\Delta t) = r(t) + v(t)\\Delta t + \\frac{\\Delta t^2}{2m}F(t), \\\\\n",
    "v(t + \\Delta t) = v(t) + \\frac{\\Delta t^2}{2 m}(F(t) + F(t + \\Delta t)).\n",
    "$$\n",
    "##### 3. Integrator derived from the Liouville's operator\n",
    "Using the Trotter theorem we can write out the integrator in multiple steps as\n",
    "$$\n",
    "1.\\quad p(t + \\Delta t/2) = p(t) + \\frac{\\Delta t}{2}F(t), \\\\\n",
    "2.\\quad r(t + \\Delta t) = r(t) + \\frac{\\Delta t}{m}p(t+\\Delta t/2), \\\\\n",
    "3. \\quad p(t + \\Delta t) = p(t + \\Delta t/2) + \\frac{\\Delta t}{2}F(t + \\Delta t).\n",
    "$$"
   ]
  },
  {
   "cell_type": "markdown",
   "metadata": {},
   "source": [
    "### Equivalence\n",
    "#### (1) $\\iff$ (2)\n",
    "Starting with the plain Verlet and adding $r(t + \\Delta t)$ to both sides we get\n",
    "$$\n",
    "    2r(t + \\Delta t) = 2r(t) + r(t + \\Delta t) - r(t - \\Delta t) + \\frac{\\Delta t^2}{m} F(t) = 2r(t) + 2v(t)\\Delta t + \\frac{\\Delta t^2}{m}F(t),\n",
    "$$\n",
    "and now if we divide both sides by 2, the emerging expression is\n",
    "$$\n",
    "    r(t + \\Delta t) = r(t) + v(t)\\Delta t + \\frac{\\Delta t^2}{2m}F(t),\n",
    "$$\n",
    "which is precisely the integration formula for velocity Verlet.\n",
    "#### (2) $\\iff$ (3)\n",
    "Plugging in from the 1st equation to the 2nd equation for Liouveille's operator approach we obtain\n",
    "$$\n",
    "r(t + \\Delta t) = r(t) + \\frac{\\Delta t}{m}[p(t) + \\frac{\\Delta t}{2} F(t)],\n",
    "$$\n",
    "which, if we use the formula $p = mv$, means that\n",
    "$$\n",
    "r(t + \\Delta t) = r(t) + v(t)\\Delta t + \\frac{\\Delta t^2}{2m} F(t).\n",
    "$$\n",
    "Similarly, to the previous case, this is the formula for velocity Verlet integration, and thus the equivalence is proven."
   ]
  }
 ],
 "metadata": {
  "language_info": {
   "name": "python"
  }
 },
 "nbformat": 4,
 "nbformat_minor": 2
}
